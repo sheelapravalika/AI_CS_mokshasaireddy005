{
  "cells": [
    {
      "cell_type": "markdown",
      "metadata": {
        "id": "view-in-github",
        "colab_type": "text"
      },
      "source": [
        "<a href=\"https://colab.research.google.com/github/sheelapravalika/AI_CS_mokshasaireddy005/blob/main/Random_Forest_fixed.ipynb\" target=\"_parent\"><img src=\"https://colab.research.google.com/assets/colab-badge.svg\" alt=\"Open In Colab\"/></a>"
      ]
    },
    {
      "cell_type": "markdown",
      "metadata": {
        "id": "7vLuXjAIpchv"
      },
      "source": [
        "[![Open In Colab](https://colab.research.google.com/assets/colab-badge.svg)](https://colab.research.google.com/github/sheelapravalika/AI_CS_mokshasaireddy005/blob/main/Random_Forest.ipynb)\n"
      ]
    },
    {
      "cell_type": "code",
      "execution_count": null,
      "metadata": {
        "colab": {
          "base_uri": "https://localhost:8080/"
        },
        "id": "i3KmVtpOr6tk",
        "outputId": "3444e20f-39db-4824-8d63-9bc624ab3d2d"
      },
      "outputs": [
        {
          "name": "stdout",
          "output_type": "stream",
          "text": [
            "Requirement already satisfied: datasets in /usr/local/lib/python3.11/dist-packages (4.0.0)\n",
            "Requirement already satisfied: huggingface_hub in /usr/local/lib/python3.11/dist-packages (0.34.2)\n",
            "Requirement already satisfied: fsspec in /usr/local/lib/python3.11/dist-packages (2025.3.0)\n",
            "Collecting fsspec\n",
            "  Using cached fsspec-2025.7.0-py3-none-any.whl.metadata (12 kB)\n",
            "Requirement already satisfied: pandas in /usr/local/lib/python3.11/dist-packages (2.3.1)\n",
            "Requirement already satisfied: scikit-learn in /usr/local/lib/python3.11/dist-packages (1.7.1)\n",
            "Requirement already satisfied: matplotlib in /usr/local/lib/python3.11/dist-packages (3.10.3)\n",
            "Requirement already satisfied: seaborn in /usr/local/lib/python3.11/dist-packages (0.13.2)\n",
            "Requirement already satisfied: numpy in /usr/local/lib/python3.11/dist-packages (2.3.2)\n",
            "Requirement already satisfied: filelock in /usr/local/lib/python3.11/dist-packages (from datasets) (3.18.0)\n",
            "Requirement already satisfied: pyarrow>=15.0.0 in /usr/local/lib/python3.11/dist-packages (from datasets) (18.1.0)\n",
            "Requirement already satisfied: dill<0.3.9,>=0.3.0 in /usr/local/lib/python3.11/dist-packages (from datasets) (0.3.8)\n",
            "Requirement already satisfied: requests>=2.32.2 in /usr/local/lib/python3.11/dist-packages (from datasets) (2.32.3)\n",
            "Requirement already satisfied: tqdm>=4.66.3 in /usr/local/lib/python3.11/dist-packages (from datasets) (4.67.1)\n",
            "Requirement already satisfied: xxhash in /usr/local/lib/python3.11/dist-packages (from datasets) (3.5.0)\n",
            "Requirement already satisfied: multiprocess<0.70.17 in /usr/local/lib/python3.11/dist-packages (from datasets) (0.70.16)\n",
            "Requirement already satisfied: packaging in /usr/local/lib/python3.11/dist-packages (from datasets) (25.0)\n",
            "Requirement already satisfied: pyyaml>=5.1 in /usr/local/lib/python3.11/dist-packages (from datasets) (6.0.2)\n",
            "Requirement already satisfied: typing-extensions>=3.7.4.3 in /usr/local/lib/python3.11/dist-packages (from huggingface_hub) (4.14.1)\n",
            "Requirement already satisfied: hf-xet<2.0.0,>=1.1.3 in /usr/local/lib/python3.11/dist-packages (from huggingface_hub) (1.1.5)\n",
            "Requirement already satisfied: python-dateutil>=2.8.2 in /usr/local/lib/python3.11/dist-packages (from pandas) (2.9.0.post0)\n",
            "Requirement already satisfied: pytz>=2020.1 in /usr/local/lib/python3.11/dist-packages (from pandas) (2025.2)\n",
            "Requirement already satisfied: tzdata>=2022.7 in /usr/local/lib/python3.11/dist-packages (from pandas) (2025.2)\n",
            "Requirement already satisfied: scipy>=1.8.0 in /usr/local/lib/python3.11/dist-packages (from scikit-learn) (1.16.0)\n",
            "Requirement already satisfied: joblib>=1.2.0 in /usr/local/lib/python3.11/dist-packages (from scikit-learn) (1.5.1)\n",
            "Requirement already satisfied: threadpoolctl>=3.1.0 in /usr/local/lib/python3.11/dist-packages (from scikit-learn) (3.6.0)\n",
            "Requirement already satisfied: contourpy>=1.0.1 in /usr/local/lib/python3.11/dist-packages (from matplotlib) (1.3.2)\n",
            "Requirement already satisfied: cycler>=0.10 in /usr/local/lib/python3.11/dist-packages (from matplotlib) (0.12.1)\n",
            "Requirement already satisfied: fonttools>=4.22.0 in /usr/local/lib/python3.11/dist-packages (from matplotlib) (4.59.0)\n",
            "Requirement already satisfied: kiwisolver>=1.3.1 in /usr/local/lib/python3.11/dist-packages (from matplotlib) (1.4.8)\n",
            "Requirement already satisfied: pillow>=8 in /usr/local/lib/python3.11/dist-packages (from matplotlib) (11.3.0)\n",
            "Requirement already satisfied: pyparsing>=2.3.1 in /usr/local/lib/python3.11/dist-packages (from matplotlib) (3.2.3)\n",
            "Requirement already satisfied: aiohttp!=4.0.0a0,!=4.0.0a1 in /usr/local/lib/python3.11/dist-packages (from fsspec[http]<=2025.3.0,>=2023.1.0->datasets) (3.12.14)\n",
            "Requirement already satisfied: six>=1.5 in /usr/local/lib/python3.11/dist-packages (from python-dateutil>=2.8.2->pandas) (1.17.0)\n",
            "Requirement already satisfied: charset-normalizer<4,>=2 in /usr/local/lib/python3.11/dist-packages (from requests>=2.32.2->datasets) (3.4.2)\n",
            "Requirement already satisfied: idna<4,>=2.5 in /usr/local/lib/python3.11/dist-packages (from requests>=2.32.2->datasets) (3.10)\n",
            "Requirement already satisfied: urllib3<3,>=1.21.1 in /usr/local/lib/python3.11/dist-packages (from requests>=2.32.2->datasets) (2.5.0)\n",
            "Requirement already satisfied: certifi>=2017.4.17 in /usr/local/lib/python3.11/dist-packages (from requests>=2.32.2->datasets) (2025.7.14)\n",
            "Requirement already satisfied: aiohappyeyeballs>=2.5.0 in /usr/local/lib/python3.11/dist-packages (from aiohttp!=4.0.0a0,!=4.0.0a1->fsspec[http]<=2025.3.0,>=2023.1.0->datasets) (2.6.1)\n",
            "Requirement already satisfied: aiosignal>=1.4.0 in /usr/local/lib/python3.11/dist-packages (from aiohttp!=4.0.0a0,!=4.0.0a1->fsspec[http]<=2025.3.0,>=2023.1.0->datasets) (1.4.0)\n",
            "Requirement already satisfied: attrs>=17.3.0 in /usr/local/lib/python3.11/dist-packages (from aiohttp!=4.0.0a0,!=4.0.0a1->fsspec[http]<=2025.3.0,>=2023.1.0->datasets) (25.3.0)\n",
            "Requirement already satisfied: frozenlist>=1.1.1 in /usr/local/lib/python3.11/dist-packages (from aiohttp!=4.0.0a0,!=4.0.0a1->fsspec[http]<=2025.3.0,>=2023.1.0->datasets) (1.7.0)\n",
            "Requirement already satisfied: multidict<7.0,>=4.5 in /usr/local/lib/python3.11/dist-packages (from aiohttp!=4.0.0a0,!=4.0.0a1->fsspec[http]<=2025.3.0,>=2023.1.0->datasets) (6.6.3)\n",
            "Requirement already satisfied: propcache>=0.2.0 in /usr/local/lib/python3.11/dist-packages (from aiohttp!=4.0.0a0,!=4.0.0a1->fsspec[http]<=2025.3.0,>=2023.1.0->datasets) (0.3.2)\n",
            "Requirement already satisfied: yarl<2.0,>=1.17.0 in /usr/local/lib/python3.11/dist-packages (from aiohttp!=4.0.0a0,!=4.0.0a1->fsspec[http]<=2025.3.0,>=2023.1.0->datasets) (1.20.1)\n"
          ]
        }
      ],
      "source": [
        "!pip install -U datasets huggingface_hub fsspec pandas scikit-learn matplotlib seaborn numpy\n",
        "\n",
        "# ✅ STEP 2: Import Libraries\n",
        "from datasets import load_dataset\n",
        "import pandas as pd\n",
        "from sklearn.model_selection import train_test_split\n",
        "from sklearn.preprocessing import StandardScaler, LabelEncoder\n",
        "from sklearn.ensemble import RandomForestClassifier\n",
        "from sklearn.metrics import classification_report, confusion_matrix, accuracy_score\n",
        "import matplotlib.pyplot as plt\n",
        "import seaborn as sns\n",
        "import numpy as np\n",
        "import warnings\n",
        "warnings.filterwarnings('ignore')"
      ]
    },
    {
      "cell_type": "code",
      "execution_count": null,
      "metadata": {
        "colab": {
          "base_uri": "https://localhost:8080/",
          "height": 1000,
          "referenced_widgets": [
            "18742b06951c4731be1178f96e84b07a",
            "15a25a71aa4c4451a877aac021cb6354",
            "1807b627698543babb2f3a9a74880c43",
            "19f2f179303241488e1824972bf43c4b",
            "32b183e9c19c4f11a40396add5d56292",
            "bd74631351454e9982e70c1684ea6cc7",
            "3c010659229b46f6a30a25c8d547c722",
            "abc7167c890a4ba69ac8f5e30b592ba8",
            "0956b1cfdf794072acaabe2469884fa4",
            "71b9b178eb7647119ecbc2507d0aea46",
            "9d4954f510c64e7fb2f96148a7d493f6",
            "c6188dfe990643ba96a3122a33142c1b",
            "37e60e30de854011b2cb87d253a78398",
            "82f423f584f24e548db75657f3366bc3",
            "7f6af794e4044460bbf2da06b1e85d06",
            "d3f23768330a40b9a006a6fd10b5ba34",
            "9dc6d5ed891945cda974e9006f8c0550",
            "aad6589bbe7746d0a65fe748144cba87",
            "1cdd58d10f1d4d46b05ea2ea210a1165",
            "e8051dbe840b4a758aaf1cbd48e0255b",
            "0fa227d0080941a791f52998e55f2251",
            "9db5af00b9924f5aa74140d2c799a905",
            "566f1947cec046ad8fa7971e90fd9653",
            "84fff8d9292341f78f25f4c79e2077ec",
            "f63123f680f742acb83109d019d2f251",
            "05715755e1c145c4bd92e040552d99a1",
            "38ca17bd1ee64999a503d6dc441170da",
            "6c1d6e93bf424869913b2b0e1830d45d",
            "9e034a8d562a4608822f34d5090dd25c",
            "038c257e832847ed892b6b26cde0e5f9",
            "f4eca06edaea40cf8f5f718440811f01",
            "808d049c28f749c998458374e3fd6a08",
            "a7c28ba294554436bfbc7cf51ba5fef5",
            "07d089f640d244a3b70fabc8ebfc23ba",
            "5431d537b90a413d9db263844d42a02f",
            "81932e3b5c234fe7a946ee17468418ba",
            "b0f36f99847045bfb1e1822606706f7e",
            "90cf144d4a5a4c07b076a9e4ff419867",
            "28561efee68b493f9e933c4ec9f9402b",
            "d02a8dce813a4745aca48344b6c371c7",
            "e071e26cea184ef6a7fd4ed30dc7a3db",
            "74964dcf284547a0be883255415b499a",
            "21174499c4f544a9a87566f705359643",
            "9da9768afcbe41f0bce5e3a64f034592",
            "0e0c671319084fa589e167e82831b3ef",
            "6bcf899e578e40a68cbabf8cc4262352",
            "a655a7c3a24648498f635aaf7fc8883a",
            "b399b906db8c4213b06aa6857c4f4488",
            "58e0f396f8924d3db5ee50099d4257bd",
            "4b91a26338ad4a70a31d139c3f3caceb",
            "7aac992f75dc40aab7b99546c2c3d35b",
            "fe43a18b08404bf9b8f321b48a3271c5",
            "b8fa5f702a38403f85cda9010bfa2272",
            "d510ed043c56464cb85d824241648da5",
            "550a17e738bf431bbe96af68bbfb74d3",
            "ddace200ad614c1b8ae089adec21c0e8",
            "04a62bbd73b84567ba8880e0be622d7c",
            "5a1d2654fcf04deeb7bfd271ca25c894",
            "ac94bf3b5974424287c9967f62030415",
            "ed2f80e191d14ffa8d2138e683be040c",
            "280bb9e0d5d04a6195f32e5ffcd077cd",
            "8a4116e9d59f447f977dcdb1103b67d9",
            "0f195aba30874f2e877e338b7c2a7f31",
            "dde9bda2af734c668dbd395f1afa5c75",
            "d61f6cfaebfe4057a4d9406e4f9e3f2d",
            "7971f245f67848c2be114d7edb0c356b"
          ]
        },
        "id": "TKDTXtizsAoc",
        "outputId": "2c8568a1-14ad-4fe5-9a34-285ee23273a1"
      },
      "outputs": [
        {
          "data": {
            "application/vnd.jupyter.widget-view+json": {
              "model_id": "18742b06951c4731be1178f96e84b07a",
              "version_major": 2,
              "version_minor": 0
            },
            "text/plain": [
              "README.md: 0.00B [00:00, ?B/s]"
            ]
          },
          "metadata": {},
          "output_type": "display_data"
        },
        {
          "data": {
            "application/vnd.jupyter.widget-view+json": {
              "model_id": "c6188dfe990643ba96a3122a33142c1b",
              "version_major": 2,
              "version_minor": 0
            },
            "text/plain": [
              "train-00000-of-00004.parquet:   0%|          | 0.00/92.8M [00:00<?, ?B/s]"
            ]
          },
          "metadata": {},
          "output_type": "display_data"
        },
        {
          "data": {
            "application/vnd.jupyter.widget-view+json": {
              "model_id": "566f1947cec046ad8fa7971e90fd9653",
              "version_major": 2,
              "version_minor": 0
            },
            "text/plain": [
              "train-00001-of-00004.parquet:   0%|          | 0.00/107M [00:00<?, ?B/s]"
            ]
          },
          "metadata": {},
          "output_type": "display_data"
        },
        {
          "data": {
            "application/vnd.jupyter.widget-view+json": {
              "model_id": "07d089f640d244a3b70fabc8ebfc23ba",
              "version_major": 2,
              "version_minor": 0
            },
            "text/plain": [
              "train-00002-of-00004.parquet:   0%|          | 0.00/108M [00:00<?, ?B/s]"
            ]
          },
          "metadata": {},
          "output_type": "display_data"
        },
        {
          "data": {
            "application/vnd.jupyter.widget-view+json": {
              "model_id": "0e0c671319084fa589e167e82831b3ef",
              "version_major": 2,
              "version_minor": 0
            },
            "text/plain": [
              "train-00003-of-00004.parquet:   0%|          | 0.00/107M [00:00<?, ?B/s]"
            ]
          },
          "metadata": {},
          "output_type": "display_data"
        },
        {
          "data": {
            "application/vnd.jupyter.widget-view+json": {
              "model_id": "ddace200ad614c1b8ae089adec21c0e8",
              "version_major": 2,
              "version_minor": 0
            },
            "text/plain": [
              "Generating train split:   0%|          | 0/2522362 [00:00<?, ? examples/s]"
            ]
          },
          "metadata": {},
          "output_type": "display_data"
        },
        {
          "name": "stdout",
          "output_type": "stream",
          "text": [
            "         DestinationPort  FlowDuration  TotalFwdPackets  TotalBackwardPackets  \\\n",
            "0                  54865             3                2                     0   \n",
            "1                  55054           109                1                     1   \n",
            "2                  55055            52                1                     1   \n",
            "3                  46236            34                1                     1   \n",
            "4                  54863             3                2                     0   \n",
            "...                  ...           ...              ...                   ...   \n",
            "2522357               53         32215                4                     2   \n",
            "2522358               53           324                2                     2   \n",
            "2522359            58030            82                2                     1   \n",
            "2522360               53       1048635                6                     2   \n",
            "2522361               53         94939                4                     2   \n",
            "\n",
            "         TotalLengthofFwdPackets  TotalLengthofBwdPackets  FwdPacketLengthMax  \\\n",
            "0                             12                        0                   6   \n",
            "1                              6                        6                   6   \n",
            "2                              6                        6                   6   \n",
            "3                              6                        6                   6   \n",
            "4                             12                        0                   6   \n",
            "...                          ...                      ...                 ...   \n",
            "2522357                      112                      152                  28   \n",
            "2522358                       84                      362                  42   \n",
            "2522359                       31                        6                  31   \n",
            "2522360                      192                      256                  32   \n",
            "2522361                      188                      226                  47   \n",
            "\n",
            "         FwdPacketLengthMin  FwdPacketLengthMean  FwdPacketLengthStd  ...  \\\n",
            "0                         6                  6.0             0.00000  ...   \n",
            "1                         6                  6.0             0.00000  ...   \n",
            "2                         6                  6.0             0.00000  ...   \n",
            "3                         6                  6.0             0.00000  ...   \n",
            "4                         6                  6.0             0.00000  ...   \n",
            "...                     ...                  ...                 ...  ...   \n",
            "2522357                  28                 28.0             0.00000  ...   \n",
            "2522358                  42                 42.0             0.00000  ...   \n",
            "2522359                   0                 15.5            21.92031  ...   \n",
            "2522360                  32                 32.0             0.00000  ...   \n",
            "2522361                  47                 47.0             0.00000  ...   \n",
            "\n",
            "         ActiveMean  ActiveStd  ActiveMax  ActiveMin  IdleMean  IdleStd  \\\n",
            "0               0.0        0.0          0          0       0.0      0.0   \n",
            "1               0.0        0.0          0          0       0.0      0.0   \n",
            "2               0.0        0.0          0          0       0.0      0.0   \n",
            "3               0.0        0.0          0          0       0.0      0.0   \n",
            "4               0.0        0.0          0          0       0.0      0.0   \n",
            "...             ...        ...        ...        ...       ...      ...   \n",
            "2522357         0.0        0.0          0          0       0.0      0.0   \n",
            "2522358         0.0        0.0          0          0       0.0      0.0   \n",
            "2522359         0.0        0.0          0          0       0.0      0.0   \n",
            "2522360         0.0        0.0          0          0       0.0      0.0   \n",
            "2522361         0.0        0.0          0          0       0.0      0.0   \n",
            "\n",
            "         IdleMax  IdleMin   Label  LabelMap  \n",
            "0              0        0  BENIGN    BENIGN  \n",
            "1              0        0  BENIGN    BENIGN  \n",
            "2              0        0  BENIGN    BENIGN  \n",
            "3              0        0  BENIGN    BENIGN  \n",
            "4              0        0  BENIGN    BENIGN  \n",
            "...          ...      ...     ...       ...  \n",
            "2522357        0        0  BENIGN    BENIGN  \n",
            "2522358        0        0  BENIGN    BENIGN  \n",
            "2522359        0        0  BENIGN    BENIGN  \n",
            "2522360        0        0  BENIGN    BENIGN  \n",
            "2522361        0        0  BENIGN    BENIGN  \n",
            "\n",
            "[2522362 rows x 80 columns]\n"
          ]
        }
      ],
      "source": [
        "# ✅ STEP 3: Load CIC-IDS2017 (Binary) Dataset\n",
        "from datasets import load_dataset\n",
        "dataset = load_dataset(\"sonnh-tech1/cic-ids-2017\", \"binary\")\n",
        "df = dataset[\"train\"].to_pandas()\n",
        "print(df)"
      ]
    },
    {
      "cell_type": "code",
      "execution_count": null,
      "metadata": {
        "colab": {
          "base_uri": "https://localhost:8080/"
        },
        "id": "g4XGqstmsGxv",
        "outputId": "dd0bcdfa-3eab-44d5-c602-a8c02df1abfc"
      },
      "outputs": [
        {
          "name": "stdout",
          "output_type": "stream",
          "text": [
            "         DestinationPort  FlowDuration  TotalFwdPackets  TotalBackwardPackets  \\\n",
            "0                  54865             3                2                     0   \n",
            "1                  55054           109                1                     1   \n",
            "2                  55055            52                1                     1   \n",
            "3                  46236            34                1                     1   \n",
            "4                  54863             3                2                     0   \n",
            "...                  ...           ...              ...                   ...   \n",
            "2522357               53         32215                4                     2   \n",
            "2522358               53           324                2                     2   \n",
            "2522359            58030            82                2                     1   \n",
            "2522360               53       1048635                6                     2   \n",
            "2522361               53         94939                4                     2   \n",
            "\n",
            "         TotalLengthofFwdPackets  TotalLengthofBwdPackets  FwdPacketLengthMax  \\\n",
            "0                             12                        0                   6   \n",
            "1                              6                        6                   6   \n",
            "2                              6                        6                   6   \n",
            "3                              6                        6                   6   \n",
            "4                             12                        0                   6   \n",
            "...                          ...                      ...                 ...   \n",
            "2522357                      112                      152                  28   \n",
            "2522358                       84                      362                  42   \n",
            "2522359                       31                        6                  31   \n",
            "2522360                      192                      256                  32   \n",
            "2522361                      188                      226                  47   \n",
            "\n",
            "         FwdPacketLengthMin  FwdPacketLengthMean  FwdPacketLengthStd  ...  \\\n",
            "0                         6                  6.0             0.00000  ...   \n",
            "1                         6                  6.0             0.00000  ...   \n",
            "2                         6                  6.0             0.00000  ...   \n",
            "3                         6                  6.0             0.00000  ...   \n",
            "4                         6                  6.0             0.00000  ...   \n",
            "...                     ...                  ...                 ...  ...   \n",
            "2522357                  28                 28.0             0.00000  ...   \n",
            "2522358                  42                 42.0             0.00000  ...   \n",
            "2522359                   0                 15.5            21.92031  ...   \n",
            "2522360                  32                 32.0             0.00000  ...   \n",
            "2522361                  47                 47.0             0.00000  ...   \n",
            "\n",
            "         min_seg_size_forward  ActiveMean  ActiveStd  ActiveMax  ActiveMin  \\\n",
            "0                          20         0.0        0.0          0          0   \n",
            "1                          20         0.0        0.0          0          0   \n",
            "2                          20         0.0        0.0          0          0   \n",
            "3                          20         0.0        0.0          0          0   \n",
            "4                          20         0.0        0.0          0          0   \n",
            "...                       ...         ...        ...        ...        ...   \n",
            "2522357                    20         0.0        0.0          0          0   \n",
            "2522358                    20         0.0        0.0          0          0   \n",
            "2522359                    32         0.0        0.0          0          0   \n",
            "2522360                    20         0.0        0.0          0          0   \n",
            "2522361                    20         0.0        0.0          0          0   \n",
            "\n",
            "         IdleMean  IdleStd  IdleMax  IdleMin  LabelMap  \n",
            "0             0.0      0.0        0        0    BENIGN  \n",
            "1             0.0      0.0        0        0    BENIGN  \n",
            "2             0.0      0.0        0        0    BENIGN  \n",
            "3             0.0      0.0        0        0    BENIGN  \n",
            "4             0.0      0.0        0        0    BENIGN  \n",
            "...           ...      ...      ...      ...       ...  \n",
            "2522357       0.0      0.0        0        0    BENIGN  \n",
            "2522358       0.0      0.0        0        0    BENIGN  \n",
            "2522359       0.0      0.0        0        0    BENIGN  \n",
            "2522360       0.0      0.0        0        0    BENIGN  \n",
            "2522361       0.0      0.0        0        0    BENIGN  \n",
            "\n",
            "[2522362 rows x 79 columns] 0          0\n",
            "1          0\n",
            "2          0\n",
            "3          0\n",
            "4          0\n",
            "          ..\n",
            "2522357    0\n",
            "2522358    0\n",
            "2522359    0\n",
            "2522360    0\n",
            "2522361    0\n",
            "Name: Label, Length: 2522362, dtype: int64\n",
            "[[ 2.42628568 -0.47073591 -0.01042124 ... -0.11604367 -0.3810021\n",
            "  -0.36163695]\n",
            " [ 2.43621994 -0.47073291 -0.01168041 ... -0.11604367 -0.3810021\n",
            "  -0.36163695]\n",
            " [ 2.43627251 -0.47073452 -0.01168041 ... -0.11604367 -0.3810021\n",
            "  -0.36163695]\n",
            " ...\n",
            " [ 2.59264518 -0.47073367 -0.01042124 ... -0.11604367 -0.3810021\n",
            "  -0.36163695]\n",
            " [-0.45475603 -0.44096574 -0.00538455 ... -0.11604367 -0.3810021\n",
            "  -0.36163695]\n",
            " [-0.45475603 -0.46804073 -0.0079029  ... -0.11604367 -0.3810021\n",
            "  -0.36163695]]\n",
            "0          0\n",
            "1          0\n",
            "2          0\n",
            "3          0\n",
            "4          0\n",
            "          ..\n",
            "2522357    0\n",
            "2522358    0\n",
            "2522359    0\n",
            "2522360    0\n",
            "2522361    0\n",
            "Name: Label, Length: 2522362, dtype: int64\n"
          ]
        }
      ],
      "source": [
        "# ✅ STEP 4: Preprocess Data\n",
        "#df.dropna(inplace=True)  # Drop missing rows\n",
        "le = LabelEncoder()\n",
        "df['Label'] = le.fit_transform(df['Label'])  # Benign=0, Threat=1\n",
        "X = df.drop('Label', axis=1)\n",
        "y = df['Label']\n",
        "print(X,y)\n",
        "X_numeric = X.select_dtypes(include=['int64', 'float64'])\n",
        "scaler = StandardScaler()\n",
        "X_scaled = scaler.fit_transform(X_numeric)\n",
        "print(X_scaled)\n",
        "print(y)"
      ]
    },
    {
      "cell_type": "code",
      "execution_count": null,
      "metadata": {
        "colab": {
          "background_save": true,
          "base_uri": "https://localhost:8080/"
        },
        "id": "gXc5HudhsdDv",
        "outputId": "1f728d0b-3e26-4243-c6bc-bb2ee13ec738"
      },
      "outputs": [
        {
          "name": "stdout",
          "output_type": "stream",
          "text": [
            "Fitting 3 folds for each of 30 candidates, totalling 90 fits\n",
            "    mean_test_score  std_test_score  \\\n",
            "12         0.998525        0.000022   \n",
            "20         0.998512        0.000014   \n",
            "10         0.998511        0.000022   \n",
            "17         0.998511        0.000010   \n",
            "13         0.998455        0.000015   \n",
            "8          0.998439        0.000018   \n",
            "21         0.998439        0.000035   \n",
            "22         0.998434        0.000024   \n",
            "23         0.998401        0.000021   \n",
            "25         0.998398        0.000044   \n",
            "\n",
            "                                               params  \n",
            "12  {'n_estimators': 100, 'min_samples_split': 5, ...  \n",
            "20  {'n_estimators': 200, 'min_samples_split': 5, ...  \n",
            "10  {'n_estimators': 100, 'min_samples_split': 2, ...  \n",
            "17  {'n_estimators': 100, 'min_samples_split': 5, ...  \n",
            "13  {'n_estimators': 200, 'min_samples_split': 5, ...  \n",
            "8   {'n_estimators': 200, 'min_samples_split': 10,...  \n",
            "21  {'n_estimators': 100, 'min_samples_split': 2, ...  \n",
            "22  {'n_estimators': 200, 'min_samples_split': 10,...  \n",
            "23  {'n_estimators': 100, 'min_samples_split': 10,...  \n",
            "25  {'n_estimators': 100, 'min_samples_split': 10,...  \n"
          ]
        }
      ],
      "source": [
        "from sklearn.model_selection import RandomizedSearchCV\n",
        "from sklearn.metrics import classification_report, accuracy_score\n",
        "import numpy as np\n",
        "import pandas as pd\n",
        "\n",
        "# Define the parameter grid\n",
        "param_dist = {\n",
        "    'n_estimators': [100, 200],\n",
        "    'max_depth': [10, 20, 30, None],\n",
        "    'min_samples_split': [2, 5, 10],\n",
        "    'min_samples_leaf': [1, 2, 4],\n",
        "    'max_features': ['sqrt', 'log2'],\n",
        "    'bootstrap': [True, False]\n",
        "}\n",
        "X_train, X_test, y_train, y_test = train_test_split(X_scaled, y, test_size=0.2, random_state=42)\n",
        "\n",
        "# Create the classifier\n",
        "rf = RandomForestClassifier(random_state=42)\n",
        "\n",
        "# Randomized Search CV\n",
        "random_search = RandomizedSearchCV(\n",
        "    estimator=rf,\n",
        "    param_distributions=param_dist,\n",
        "    n_iter=30,  # Number of random combinations to try\n",
        "    cv=3,\n",
        "    verbose=2,\n",
        "    random_state=42,\n",
        "    n_jobs=-1,\n",
        "    scoring='accuracy'  # or 'f1_weighted' for imbalanced classes\n",
        ")\n",
        "\n",
        "# Fit on training data\n",
        "random_search.fit(X_train, y_train)\n",
        "results_df = pd.DataFrame(random_search.cv_results_)\n",
        "\n",
        "\n",
        "top_results = results_df.sort_values(by='mean_test_score', ascending=False)\n",
        "print(top_results[['mean_test_score', 'std_test_score', 'params']].head(10))"
      ]
    },
    {
      "cell_type": "code",
      "execution_count": null,
      "metadata": {
        "colab": {
          "base_uri": "https://localhost:8080/"
        },
        "id": "h2B8qZke7DlK",
        "outputId": "c22edb62-65c0-4d3c-f379-6355919693c0"
      },
      "outputs": [
        {
          "name": "stdout",
          "output_type": "stream",
          "text": [
            "Fitting 3 folds for each of 30 candidates, totalling 90 fits\n",
            "\n",
            "✅ Accuracy on Test Set: 0.9986\n",
            "\n",
            "📄 Classification Report:\n",
            "               precision    recall  f1-score   support\n",
            "\n",
            "           0     0.9993    0.9993    0.9993    419148\n",
            "           1     0.8892    0.6973    0.7816       403\n",
            "           2     1.0000    0.9996    0.9998     25498\n",
            "           3     0.9990    0.9941    0.9965      2032\n",
            "           4     0.9990    0.9966    0.9978     34853\n",
            "           5     0.9894    0.9904    0.9899      1038\n",
            "           6     0.9954    0.9880    0.9917      1085\n",
            "           7     1.0000    0.9983    0.9991      1160\n",
            "           8     1.0000    1.0000    1.0000         2\n",
            "           9     1.0000    0.7500    0.8571         4\n",
            "          10     0.9888    0.9987    0.9937     18187\n",
            "          11     1.0000    0.9905    0.9952       633\n",
            "          12     0.7209    0.8435    0.7774       294\n",
            "          13     0.0000    0.0000    0.0000         1\n",
            "          14     0.4884    0.3111    0.3801       135\n",
            "\n",
            "    accuracy                         0.9986    504473\n",
            "   macro avg     0.8713    0.8372    0.8506    504473\n",
            "weighted avg     0.9985    0.9986    0.9985    504473\n",
            "\n",
            "\n",
            "📊 Confusion Matrix:\n",
            " [[418875     35      1      0     26      6      0      0      0      0\n",
            "     203      0      2      0      0]\n",
            " [   122    281      0      0      0      0      0      0      0      0\n",
            "       0      0      0      0      0]\n",
            " [     9      0  25489      0      0      0      0      0      0      0\n",
            "       0      0      0      0      0]\n",
            " [     5      0      0   2020      6      1      0      0      0      0\n",
            "       0      0      0      0      0]\n",
            " [   114      0      0      2  34735      0      0      0      0      0\n",
            "       2      0      0      0      0]\n",
            " [     3      0      0      0      0   1028      5      0      0      0\n",
            "       0      0      2      0      0]\n",
            " [     7      0      0      0      1      4   1072      0      0      0\n",
            "       0      0      1      0      0]\n",
            " [     1      0      0      0      0      0      0   1158      0      0\n",
            "       0      0      0      0      1]\n",
            " [     0      0      0      0      0      0      0      0      2      0\n",
            "       0      0      0      0      0]\n",
            " [     1      0      0      0      0      0      0      0      0      3\n",
            "       0      0      0      0      0]\n",
            " [    21      0      0      0      3      0      0      0      0      0\n",
            "   18163      0      0      0      0]\n",
            " [     6      0      0      0      0      0      0      0      0      0\n",
            "       0    627      0      0      0]\n",
            " [     3      0      0      0      0      0      0      0      0      0\n",
            "       0      0    248      0     43]\n",
            " [     1      0      0      0      0      0      0      0      0      0\n",
            "       0      0      0      0      0]\n",
            " [     1      0      0      0      0      0      0      0      0      0\n",
            "       1      0     91      0     42]]\n"
          ]
        }
      ],
      "source": [
        "from sklearn.metrics import classification_report, confusion_matrix, accuracy_score\n",
        "import matplotlib.pyplot as plt\n",
        "import seaborn as sns\n",
        "import numpy as np\n",
        "from sklearn.model_selection import train_test_split, RandomizedSearchCV\n",
        "from sklearn.ensemble import RandomForestClassifier\n",
        "import pandas as pd\n",
        "\n",
        "# Assuming X_scaled and y are defined in previous cells and are available.\n",
        "# If not, you may need to include the data loading and preprocessing steps here as well.\n",
        "\n",
        "# Re-perform train/test split to ensure X_test and y_test are defined\n",
        "# Using the same parameters as in the model training/tuning cell for consistency\n",
        "X_train, X_test, y_train, y_test = train_test_split(X_scaled, y, test_size=0.2, random_state=42)\n",
        "\n",
        "# Define the parameter grid (same as in the previous tuning cell)\n",
        "param_dist = {\n",
        "    'n_estimators': [100, 200],\n",
        "    'max_depth': [10, 20, 30, None],\n",
        "    'min_samples_split': [2, 5, 10],\n",
        "    'min_samples_leaf': [1, 2, 4],\n",
        "    'max_features': ['sqrt', 'log2'],\n",
        "    'bootstrap': [True, False]\n",
        "}\n",
        "\n",
        "# Create the classifier (same as in the previous tuning cell)\n",
        "rf = RandomForestClassifier(random_state=42)\n",
        "\n",
        "# Randomized Search CV (included here to ensure 'random_search' is defined)\n",
        "random_search = RandomizedSearchCV(\n",
        "    estimator=rf,\n",
        "    param_distributions=param_dist,\n",
        "    n_iter=30,  # Number of random combinations to try\n",
        "    cv=3,\n",
        "    verbose=2,\n",
        "    random_state=42,\n",
        "    n_jobs=-1,\n",
        "    scoring='accuracy'\n",
        ")\n",
        "\n",
        "# Fit on training data (included here to ensure 'random_search' is fitted)\n",
        "random_search.fit(X_train, y_train)\n",
        "\n",
        "\n",
        "# ✅ 1. Get the best model from Randomized Search\n",
        "best_rf = random_search.best_estimator_\n",
        "\n",
        "# ✅ 2. Predict on the test set\n",
        "y_pred = best_rf.predict(X_test)\n",
        "\n",
        "# ✅ 3. Accuracy & Classification Report\n",
        "print(f\"\\n✅ Accuracy on Test Set: {accuracy_score(y_test, y_pred):.4f}\")\n",
        "print(\"\\n📄 Classification Report:\\n\", classification_report(y_test, y_pred, digits=4))\n",
        "\n",
        "# ✅ 4. Confusion Matrix (raw)\n",
        "print(\"\\n📊 Confusion Matrix:\\n\", confusion_matrix(y_test, y_pred))"
      ]
    },
    {
      "cell_type": "code",
      "execution_count": null,
      "metadata": {
        "id": "2TU3P6-i7IZ3"
      },
      "outputs": [],
      "source": [
        "import nbformat\n",
        "\n",
        "# Step 1: Upload your broken notebook again\n",
        "from google.colab import files\n",
        "uploaded = files.upload()\n",
        "\n",
        "# Replace this with the actual uploaded filename\n",
        "filename = list(uploaded.keys())[0]\n",
        "\n",
        "# Step 2: Load and clean\n",
        "with open(filename, \"r\", encoding=\"utf-8\") as f:\n",
        "    nb = nbformat.read(f, as_version=4)\n",
        "\n",
        "# ✅ Step 3: Clean ONLY metadata.widgets (KEEP outputs and execution_count)\n",
        "for cell in nb.cells:\n",
        "    if 'metadata' in cell:\n",
        "        cell['metadata'] = {k: v for k, v in cell['metadata'].items() if k != 'widgets'}\n",
        "\n",
        "# ✅ Step 4: Clear notebook-level metadata.widgets (if present)\n",
        "if 'widgets' in nb.get('metadata', {}):\n",
        "    del nb['metadata']['widgets']\n",
        "\n",
        "# Step 5: Save cleaned notebook\n",
        "cleaned_filename = filename.replace('.ipynb', '_fixed.ipynb')\n",
        "with open(cleaned_filename, \"w\", encoding=\"utf-8\") as f:\n",
        "    nbformat.write(nb, f)\n",
        "\n",
        "print(f\"✅ Cleaned notebook saved (outputs preserved) as {cleaned_filename}\")\n",
        "files.download(cleaned_filename)\n"
      ]
    }
  ],
  "metadata": {
    "colab": {
      "machine_shape": "hm",
      "provenance": [],
      "include_colab_link": true
    },
    "kernelspec": {
      "display_name": "Python 3",
      "name": "python3"
    },
    "language_info": {
      "name": "python"
    }
  },
  "nbformat": 4,
  "nbformat_minor": 0
}