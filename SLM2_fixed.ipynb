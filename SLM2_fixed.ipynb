{
  "cells": [
    {
      "cell_type": "markdown",
      "metadata": {
        "id": "view-in-github",
        "colab_type": "text"
      },
      "source": [
        "<a href=\"https://colab.research.google.com/github/sheelapravalika/AI_CS_mokshasaireddy005/blob/main/SLM2_fixed.ipynb\" target=\"_parent\"><img src=\"https://colab.research.google.com/assets/colab-badge.svg\" alt=\"Open In Colab\"/></a>"
      ]
    },
    {
      "cell_type": "markdown",
      "metadata": {
        "id": "SXK5hA9cvtQ3"
      },
      "source": [
        "[![Open In Colab](https://colab.research.google.com/assets/colab-badge.svg)](https://colab.research.google.com/github/sheelapravalika/AI_CS_mokshasaireddy005/blob/main/SLM2.ipynb)"
      ]
    },
    {
      "cell_type": "code",
      "execution_count": null,
      "metadata": {
        "colab": {
          "base_uri": "https://localhost:8080/"
        },
        "id": "io9IzS1yyqfz",
        "outputId": "918f2740-5183-4c57-9906-500b7d462cbe"
      },
      "outputs": [
        {
          "name": "stdout",
          "output_type": "stream",
          "text": [
            "Requirement already satisfied: setfit in /usr/local/lib/python3.11/dist-packages (1.1.2)\n",
            "Requirement already satisfied: datasets in /usr/local/lib/python3.11/dist-packages (4.0.0)\n",
            "Requirement already satisfied: scikit-learn in /usr/local/lib/python3.11/dist-packages (1.7.1)\n",
            "Requirement already satisfied: pandas in /usr/local/lib/python3.11/dist-packages (2.3.1)\n",
            "Requirement already satisfied: matplotlib in /usr/local/lib/python3.11/dist-packages (3.10.5)\n",
            "Requirement already satisfied: seaborn in /usr/local/lib/python3.11/dist-packages (0.13.2)\n",
            "Requirement already satisfied: sentence-transformers>=3 in /usr/local/lib/python3.11/dist-packages (from sentence-transformers[train]>=3->setfit) (4.1.0)\n",
            "Requirement already satisfied: transformers>=4.41.0 in /usr/local/lib/python3.11/dist-packages (from setfit) (4.54.1)\n",
            "Requirement already satisfied: evaluate>=0.3.0 in /usr/local/lib/python3.11/dist-packages (from setfit) (0.4.5)\n",
            "Requirement already satisfied: huggingface_hub>=0.24.0 in /usr/local/lib/python3.11/dist-packages (from setfit) (0.34.3)\n",
            "Requirement already satisfied: packaging in /usr/local/lib/python3.11/dist-packages (from setfit) (25.0)\n",
            "Requirement already satisfied: filelock in /usr/local/lib/python3.11/dist-packages (from datasets) (3.18.0)\n",
            "Requirement already satisfied: numpy>=1.17 in /usr/local/lib/python3.11/dist-packages (from datasets) (2.0.2)\n",
            "Requirement already satisfied: pyarrow>=15.0.0 in /usr/local/lib/python3.11/dist-packages (from datasets) (18.1.0)\n",
            "Requirement already satisfied: dill<0.3.9,>=0.3.0 in /usr/local/lib/python3.11/dist-packages (from datasets) (0.3.8)\n",
            "Requirement already satisfied: requests>=2.32.2 in /usr/local/lib/python3.11/dist-packages (from datasets) (2.32.3)\n",
            "Requirement already satisfied: tqdm>=4.66.3 in /usr/local/lib/python3.11/dist-packages (from datasets) (4.67.1)\n",
            "Requirement already satisfied: xxhash in /usr/local/lib/python3.11/dist-packages (from datasets) (3.5.0)\n",
            "Requirement already satisfied: multiprocess<0.70.17 in /usr/local/lib/python3.11/dist-packages (from datasets) (0.70.16)\n",
            "Requirement already satisfied: fsspec<=2025.3.0,>=2023.1.0 in /usr/local/lib/python3.11/dist-packages (from fsspec[http]<=2025.3.0,>=2023.1.0->datasets) (2025.3.0)\n",
            "Requirement already satisfied: pyyaml>=5.1 in /usr/local/lib/python3.11/dist-packages (from datasets) (6.0.2)\n",
            "Requirement already satisfied: scipy>=1.8.0 in /usr/local/lib/python3.11/dist-packages (from scikit-learn) (1.16.1)\n",
            "Requirement already satisfied: joblib>=1.2.0 in /usr/local/lib/python3.11/dist-packages (from scikit-learn) (1.5.1)\n",
            "Requirement already satisfied: threadpoolctl>=3.1.0 in /usr/local/lib/python3.11/dist-packages (from scikit-learn) (3.6.0)\n",
            "Requirement already satisfied: python-dateutil>=2.8.2 in /usr/local/lib/python3.11/dist-packages (from pandas) (2.9.0.post0)\n",
            "Requirement already satisfied: pytz>=2020.1 in /usr/local/lib/python3.11/dist-packages (from pandas) (2025.2)\n",
            "Requirement already satisfied: tzdata>=2022.7 in /usr/local/lib/python3.11/dist-packages (from pandas) (2025.2)\n",
            "Requirement already satisfied: contourpy>=1.0.1 in /usr/local/lib/python3.11/dist-packages (from matplotlib) (1.3.3)\n",
            "Requirement already satisfied: cycler>=0.10 in /usr/local/lib/python3.11/dist-packages (from matplotlib) (0.12.1)\n",
            "Requirement already satisfied: fonttools>=4.22.0 in /usr/local/lib/python3.11/dist-packages (from matplotlib) (4.59.0)\n",
            "Requirement already satisfied: kiwisolver>=1.3.1 in /usr/local/lib/python3.11/dist-packages (from matplotlib) (1.4.8)\n",
            "Requirement already satisfied: pillow>=8 in /usr/local/lib/python3.11/dist-packages (from matplotlib) (11.3.0)\n",
            "Requirement already satisfied: pyparsing>=2.3.1 in /usr/local/lib/python3.11/dist-packages (from matplotlib) (3.2.3)\n",
            "Requirement already satisfied: aiohttp!=4.0.0a0,!=4.0.0a1 in /usr/local/lib/python3.11/dist-packages (from fsspec[http]<=2025.3.0,>=2023.1.0->datasets) (3.12.15)\n",
            "Requirement already satisfied: typing-extensions>=3.7.4.3 in /usr/local/lib/python3.11/dist-packages (from huggingface_hub>=0.24.0->setfit) (4.14.1)\n",
            "Requirement already satisfied: hf-xet<2.0.0,>=1.1.3 in /usr/local/lib/python3.11/dist-packages (from huggingface_hub>=0.24.0->setfit) (1.1.5)\n",
            "Requirement already satisfied: six>=1.5 in /usr/local/lib/python3.11/dist-packages (from python-dateutil>=2.8.2->pandas) (1.17.0)\n",
            "Requirement already satisfied: charset-normalizer<4,>=2 in /usr/local/lib/python3.11/dist-packages (from requests>=2.32.2->datasets) (3.4.2)\n",
            "Requirement already satisfied: idna<4,>=2.5 in /usr/local/lib/python3.11/dist-packages (from requests>=2.32.2->datasets) (3.10)\n",
            "Requirement already satisfied: urllib3<3,>=1.21.1 in /usr/local/lib/python3.11/dist-packages (from requests>=2.32.2->datasets) (2.5.0)\n",
            "Requirement already satisfied: certifi>=2017.4.17 in /usr/local/lib/python3.11/dist-packages (from requests>=2.32.2->datasets) (2025.7.14)\n",
            "Requirement already satisfied: torch>=1.11.0 in /usr/local/lib/python3.11/dist-packages (from sentence-transformers>=3->sentence-transformers[train]>=3->setfit) (2.6.0+cu124)\n",
            "Requirement already satisfied: accelerate>=0.20.3 in /usr/local/lib/python3.11/dist-packages (from sentence-transformers[train]>=3->setfit) (1.9.0)\n",
            "Requirement already satisfied: regex!=2019.12.17 in /usr/local/lib/python3.11/dist-packages (from transformers>=4.41.0->setfit) (2024.11.6)\n",
            "Requirement already satisfied: tokenizers<0.22,>=0.21 in /usr/local/lib/python3.11/dist-packages (from transformers>=4.41.0->setfit) (0.21.4)\n",
            "Requirement already satisfied: safetensors>=0.4.3 in /usr/local/lib/python3.11/dist-packages (from transformers>=4.41.0->setfit) (0.5.3)\n",
            "Requirement already satisfied: psutil in /usr/local/lib/python3.11/dist-packages (from accelerate>=0.20.3->sentence-transformers[train]>=3->setfit) (5.9.5)\n",
            "Requirement already satisfied: aiohappyeyeballs>=2.5.0 in /usr/local/lib/python3.11/dist-packages (from aiohttp!=4.0.0a0,!=4.0.0a1->fsspec[http]<=2025.3.0,>=2023.1.0->datasets) (2.6.1)\n",
            "Requirement already satisfied: aiosignal>=1.4.0 in /usr/local/lib/python3.11/dist-packages (from aiohttp!=4.0.0a0,!=4.0.0a1->fsspec[http]<=2025.3.0,>=2023.1.0->datasets) (1.4.0)\n",
            "Requirement already satisfied: attrs>=17.3.0 in /usr/local/lib/python3.11/dist-packages (from aiohttp!=4.0.0a0,!=4.0.0a1->fsspec[http]<=2025.3.0,>=2023.1.0->datasets) (25.3.0)\n",
            "Requirement already satisfied: frozenlist>=1.1.1 in /usr/local/lib/python3.11/dist-packages (from aiohttp!=4.0.0a0,!=4.0.0a1->fsspec[http]<=2025.3.0,>=2023.1.0->datasets) (1.7.0)\n",
            "Requirement already satisfied: multidict<7.0,>=4.5 in /usr/local/lib/python3.11/dist-packages (from aiohttp!=4.0.0a0,!=4.0.0a1->fsspec[http]<=2025.3.0,>=2023.1.0->datasets) (6.6.3)\n",
            "Requirement already satisfied: propcache>=0.2.0 in /usr/local/lib/python3.11/dist-packages (from aiohttp!=4.0.0a0,!=4.0.0a1->fsspec[http]<=2025.3.0,>=2023.1.0->datasets) (0.3.2)\n",
            "Requirement already satisfied: yarl<2.0,>=1.17.0 in /usr/local/lib/python3.11/dist-packages (from aiohttp!=4.0.0a0,!=4.0.0a1->fsspec[http]<=2025.3.0,>=2023.1.0->datasets) (1.20.1)\n",
            "Requirement already satisfied: networkx in /usr/local/lib/python3.11/dist-packages (from torch>=1.11.0->sentence-transformers>=3->sentence-transformers[train]>=3->setfit) (3.5)\n",
            "Requirement already satisfied: jinja2 in /usr/local/lib/python3.11/dist-packages (from torch>=1.11.0->sentence-transformers>=3->sentence-transformers[train]>=3->setfit) (3.1.6)\n",
            "Requirement already satisfied: nvidia-cuda-nvrtc-cu12==12.4.127 in /usr/local/lib/python3.11/dist-packages (from torch>=1.11.0->sentence-transformers>=3->sentence-transformers[train]>=3->setfit) (12.4.127)\n",
            "Requirement already satisfied: nvidia-cuda-runtime-cu12==12.4.127 in /usr/local/lib/python3.11/dist-packages (from torch>=1.11.0->sentence-transformers>=3->sentence-transformers[train]>=3->setfit) (12.4.127)\n",
            "Requirement already satisfied: nvidia-cuda-cupti-cu12==12.4.127 in /usr/local/lib/python3.11/dist-packages (from torch>=1.11.0->sentence-transformers>=3->sentence-transformers[train]>=3->setfit) (12.4.127)\n",
            "Requirement already satisfied: nvidia-cudnn-cu12==9.1.0.70 in /usr/local/lib/python3.11/dist-packages (from torch>=1.11.0->sentence-transformers>=3->sentence-transformers[train]>=3->setfit) (9.1.0.70)\n",
            "Requirement already satisfied: nvidia-cublas-cu12==12.4.5.8 in /usr/local/lib/python3.11/dist-packages (from torch>=1.11.0->sentence-transformers>=3->sentence-transformers[train]>=3->setfit) (12.4.5.8)\n",
            "Requirement already satisfied: nvidia-cufft-cu12==11.2.1.3 in /usr/local/lib/python3.11/dist-packages (from torch>=1.11.0->sentence-transformers>=3->sentence-transformers[train]>=3->setfit) (11.2.1.3)\n",
            "Requirement already satisfied: nvidia-curand-cu12==10.3.5.147 in /usr/local/lib/python3.11/dist-packages (from torch>=1.11.0->sentence-transformers>=3->sentence-transformers[train]>=3->setfit) (10.3.5.147)\n",
            "Requirement already satisfied: nvidia-cusolver-cu12==11.6.1.9 in /usr/local/lib/python3.11/dist-packages (from torch>=1.11.0->sentence-transformers>=3->sentence-transformers[train]>=3->setfit) (11.6.1.9)\n",
            "Requirement already satisfied: nvidia-cusparse-cu12==12.3.1.170 in /usr/local/lib/python3.11/dist-packages (from torch>=1.11.0->sentence-transformers>=3->sentence-transformers[train]>=3->setfit) (12.3.1.170)\n",
            "Requirement already satisfied: nvidia-cusparselt-cu12==0.6.2 in /usr/local/lib/python3.11/dist-packages (from torch>=1.11.0->sentence-transformers>=3->sentence-transformers[train]>=3->setfit) (0.6.2)\n",
            "Requirement already satisfied: nvidia-nccl-cu12==2.21.5 in /usr/local/lib/python3.11/dist-packages (from torch>=1.11.0->sentence-transformers>=3->sentence-transformers[train]>=3->setfit) (2.21.5)\n",
            "Requirement already satisfied: nvidia-nvtx-cu12==12.4.127 in /usr/local/lib/python3.11/dist-packages (from torch>=1.11.0->sentence-transformers>=3->sentence-transformers[train]>=3->setfit) (12.4.127)\n",
            "Requirement already satisfied: nvidia-nvjitlink-cu12==12.4.127 in /usr/local/lib/python3.11/dist-packages (from torch>=1.11.0->sentence-transformers>=3->sentence-transformers[train]>=3->setfit) (12.4.127)\n",
            "Requirement already satisfied: triton==3.2.0 in /usr/local/lib/python3.11/dist-packages (from torch>=1.11.0->sentence-transformers>=3->sentence-transformers[train]>=3->setfit) (3.2.0)\n",
            "Requirement already satisfied: sympy==1.13.1 in /usr/local/lib/python3.11/dist-packages (from torch>=1.11.0->sentence-transformers>=3->sentence-transformers[train]>=3->setfit) (1.13.1)\n",
            "Requirement already satisfied: mpmath<1.4,>=1.1.0 in /usr/local/lib/python3.11/dist-packages (from sympy==1.13.1->torch>=1.11.0->sentence-transformers>=3->sentence-transformers[train]>=3->setfit) (1.3.0)\n",
            "Requirement already satisfied: MarkupSafe>=2.0 in /usr/local/lib/python3.11/dist-packages (from jinja2->torch>=1.11.0->sentence-transformers>=3->sentence-transformers[train]>=3->setfit) (3.0.2)\n"
          ]
        }
      ],
      "source": [
        "# ✅ Required Installs (if not done)\n",
        "!pip install -U setfit datasets scikit-learn pandas matplotlib seaborn"
      ]
    },
    {
      "cell_type": "code",
      "execution_count": null,
      "metadata": {
        "id": "AXJ8FxHgyv5z"
      },
      "outputs": [],
      "source": [
        "# ✅ Imports\n",
        "from datasets import load_dataset, Dataset\n",
        "from setfit import SetFitModel, SetFitTrainer\n",
        "from sklearn.metrics import classification_report, accuracy_score, confusion_matrix\n",
        "from sklearn.model_selection import train_test_split\n",
        "import pandas as pd\n",
        "import seaborn as sns\n",
        "import matplotlib.pyplot as plt\n",
        "import numpy as np"
      ]
    },
    {
      "cell_type": "code",
      "execution_count": null,
      "metadata": {
        "colab": {
          "base_uri": "https://localhost:8080/",
          "height": 1000,
          "referenced_widgets": [
            "19be7289fee44e65873c908a9bf5adee",
            "6bd6b529a4b642bc80e78129ebe80ed9",
            "86511a50bbbd41ff98b3a1b849dd7a5b",
            "d1c22a419f2f4eb2beac350787dd3b49",
            "3a363dd9e7974b1699a37e3d2d2d18c4",
            "c1a322174ea740f492a37779c7755313",
            "1dbcf00f8acd433a846b284477a7cb5a",
            "c6af4dd3fb2c485b8756fb7cea9a7ab8",
            "36f8bfb772704b378aa6ac72df15367f",
            "d810824c878d4da3be318d608d6d0d09",
            "3a9b9f1a7f55431ea71d8e1d33309bd4",
            "bb00b8fafc09412199f0844e7af38bad",
            "1cbca84db8704ac3b2370e751213e0b0",
            "b252924474d64b1a9e6ad02819cec24d",
            "a0525af73daa461d89ab6d0ee7f31fa6",
            "794ebc14c36346189f2e5d2bcd6e37d0",
            "059b0da2f72e43ef89ea98b5bdf5ac65",
            "2cc2c726918a46a4a9a24ddbfa47e7f0",
            "1eb6ee34ee9d40878fbaf6f7088ee797",
            "e35b43be9fd24d0a9ec0de2c29311cbd",
            "d775aff62481422cbe20957f11380d02",
            "9348b1a18948495685ab608f29fb0db2",
            "9c2f8b9c281147359a6be7c95b78c584",
            "369a6978019241dd81edb7835ce22558",
            "2a5410f6794148ae84e2baf977361b2c",
            "5a6cd7dc18fa47c6983409fceaf5ae2e",
            "09e174e37038451ba1bb4dd8ee9bdaf6",
            "7ea710c6bf0d4abf84048324b5a0828a",
            "8eb8100c6f3a49de82736bd0fad82c69",
            "1d8edf35a5234e25867c11179b9b6111",
            "a5b4bb298f7848ffb84d3f8454d795be",
            "c7656dd9029f48fda7e748c7663304c2",
            "7bbe24876d1049f2a9f046d28c5d791b",
            "8279b15bb0994231931f7243407395c3",
            "e9f003be6218423a82c2e5b79559854c",
            "2c50613c543d4a2abf2d0f1c71924faf",
            "e3c028ffab9147d2a2325c5942dd1446",
            "7a34edb48bf0401ba4fc08150fbc4340",
            "b836a56be835494d86769145efac8ec2",
            "8bb5d6603d5c4faca33d7f1998b8d575",
            "0ae50f23a0ef4b8b81145fba08f7df81",
            "8d3ce8c92ce6496fac4203ba8cbfd7ad",
            "06d4f8b0c3084ddf988d74569e40f1d3",
            "de95bb3b4a834a528b45ce5b44d32ced",
            "6434bed9a52346ae96cd0def3672b9e6",
            "84f7a69e18ae45338124e74d1e3fd2b2",
            "901464cf09d14bab9cc012fb704766d8",
            "11e4e507663e4358bbd873b537d6b7f3",
            "f1ae78656908438a9521b44e30f89fe9",
            "f869942a31894febb172a62ee9bf9718",
            "c743eb3eea884061965082345de3b1e2",
            "2756e6c453944cceb0d83447ee8741e2",
            "1d6722aa165d4d138d925c1278ff400e",
            "29879b9ae44745aeb5c9443bd2122386",
            "e4732920a9d94df99f2280ab3444faac",
            "cfdd907c90dd40929f9502234866e75d",
            "1551d75ed47d420d8037f6803fa9f691",
            "1bc8831cb8514fbdb6c9e3d9d1cda39e",
            "ebfb9e49ba4f48b8b4a0b65fbd9f54c1",
            "3f70293c2bbd4cdda96ccb8873037fbe",
            "46bbe52307734369bf840a5bc44ee485",
            "16387047b5244a26a5b1298cd97a4262",
            "13ca9cc40d1e47eebc5c26510996bab5",
            "429f76aba3e24f11ab77851b0f23a8fe",
            "762828d99e40469ba738a202a332702b",
            "93c8fdef03b94afca0f390a878b694b0"
          ]
        },
        "id": "vcxpmBHL0GyC",
        "outputId": "58adaaed-57d1-4497-c9d8-165b2d76de79"
      },
      "outputs": [
        {
          "name": "stderr",
          "output_type": "stream",
          "text": [
            "/usr/local/lib/python3.11/dist-packages/huggingface_hub/utils/_auth.py:94: UserWarning: \n",
            "The secret `HF_TOKEN` does not exist in your Colab secrets.\n",
            "To authenticate with the Hugging Face Hub, create a token in your settings tab (https://huggingface.co/settings/tokens), set it as secret in your Google Colab and restart your session.\n",
            "You will be able to reuse this secret in all of your notebooks.\n",
            "Please note that authentication is recommended but still optional to access public models or datasets.\n",
            "  warnings.warn(\n"
          ]
        },
        {
          "data": {
            "application/vnd.jupyter.widget-view+json": {
              "model_id": "19be7289fee44e65873c908a9bf5adee",
              "version_major": 2,
              "version_minor": 0
            },
            "text/plain": [
              "README.md: 0.00B [00:00, ?B/s]"
            ]
          },
          "metadata": {},
          "output_type": "display_data"
        },
        {
          "data": {
            "application/vnd.jupyter.widget-view+json": {
              "model_id": "bb00b8fafc09412199f0844e7af38bad",
              "version_major": 2,
              "version_minor": 0
            },
            "text/plain": [
              "train-00000-of-00004.parquet:   0%|          | 0.00/92.8M [00:00<?, ?B/s]"
            ]
          },
          "metadata": {},
          "output_type": "display_data"
        },
        {
          "data": {
            "application/vnd.jupyter.widget-view+json": {
              "model_id": "9c2f8b9c281147359a6be7c95b78c584",
              "version_major": 2,
              "version_minor": 0
            },
            "text/plain": [
              "train-00001-of-00004.parquet:   0%|          | 0.00/107M [00:00<?, ?B/s]"
            ]
          },
          "metadata": {},
          "output_type": "display_data"
        },
        {
          "data": {
            "application/vnd.jupyter.widget-view+json": {
              "model_id": "8279b15bb0994231931f7243407395c3",
              "version_major": 2,
              "version_minor": 0
            },
            "text/plain": [
              "train-00002-of-00004.parquet:   0%|          | 0.00/108M [00:00<?, ?B/s]"
            ]
          },
          "metadata": {},
          "output_type": "display_data"
        },
        {
          "data": {
            "application/vnd.jupyter.widget-view+json": {
              "model_id": "6434bed9a52346ae96cd0def3672b9e6",
              "version_major": 2,
              "version_minor": 0
            },
            "text/plain": [
              "train-00003-of-00004.parquet:   0%|          | 0.00/107M [00:00<?, ?B/s]"
            ]
          },
          "metadata": {},
          "output_type": "display_data"
        },
        {
          "data": {
            "application/vnd.jupyter.widget-view+json": {
              "model_id": "cfdd907c90dd40929f9502234866e75d",
              "version_major": 2,
              "version_minor": 0
            },
            "text/plain": [
              "Generating train split:   0%|          | 0/2522362 [00:00<?, ? examples/s]"
            ]
          },
          "metadata": {},
          "output_type": "display_data"
        },
        {
          "name": "stdout",
          "output_type": "stream",
          "text": [
            "         DestinationPort  FlowDuration  TotalFwdPackets  TotalBackwardPackets  \\\n",
            "0                  54865             3                2                     0   \n",
            "1                  55054           109                1                     1   \n",
            "2                  55055            52                1                     1   \n",
            "3                  46236            34                1                     1   \n",
            "4                  54863             3                2                     0   \n",
            "...                  ...           ...              ...                   ...   \n",
            "2522357               53         32215                4                     2   \n",
            "2522358               53           324                2                     2   \n",
            "2522359            58030            82                2                     1   \n",
            "2522360               53       1048635                6                     2   \n",
            "2522361               53         94939                4                     2   \n",
            "\n",
            "         TotalLengthofFwdPackets  TotalLengthofBwdPackets  FwdPacketLengthMax  \\\n",
            "0                             12                        0                   6   \n",
            "1                              6                        6                   6   \n",
            "2                              6                        6                   6   \n",
            "3                              6                        6                   6   \n",
            "4                             12                        0                   6   \n",
            "...                          ...                      ...                 ...   \n",
            "2522357                      112                      152                  28   \n",
            "2522358                       84                      362                  42   \n",
            "2522359                       31                        6                  31   \n",
            "2522360                      192                      256                  32   \n",
            "2522361                      188                      226                  47   \n",
            "\n",
            "         FwdPacketLengthMin  FwdPacketLengthMean  FwdPacketLengthStd  ...  \\\n",
            "0                         6                  6.0             0.00000  ...   \n",
            "1                         6                  6.0             0.00000  ...   \n",
            "2                         6                  6.0             0.00000  ...   \n",
            "3                         6                  6.0             0.00000  ...   \n",
            "4                         6                  6.0             0.00000  ...   \n",
            "...                     ...                  ...                 ...  ...   \n",
            "2522357                  28                 28.0             0.00000  ...   \n",
            "2522358                  42                 42.0             0.00000  ...   \n",
            "2522359                   0                 15.5            21.92031  ...   \n",
            "2522360                  32                 32.0             0.00000  ...   \n",
            "2522361                  47                 47.0             0.00000  ...   \n",
            "\n",
            "         ActiveMean  ActiveStd  ActiveMax  ActiveMin  IdleMean  IdleStd  \\\n",
            "0               0.0        0.0          0          0       0.0      0.0   \n",
            "1               0.0        0.0          0          0       0.0      0.0   \n",
            "2               0.0        0.0          0          0       0.0      0.0   \n",
            "3               0.0        0.0          0          0       0.0      0.0   \n",
            "4               0.0        0.0          0          0       0.0      0.0   \n",
            "...             ...        ...        ...        ...       ...      ...   \n",
            "2522357         0.0        0.0          0          0       0.0      0.0   \n",
            "2522358         0.0        0.0          0          0       0.0      0.0   \n",
            "2522359         0.0        0.0          0          0       0.0      0.0   \n",
            "2522360         0.0        0.0          0          0       0.0      0.0   \n",
            "2522361         0.0        0.0          0          0       0.0      0.0   \n",
            "\n",
            "         IdleMax  IdleMin   Label  LabelMap  \n",
            "0              0        0  BENIGN    BENIGN  \n",
            "1              0        0  BENIGN    BENIGN  \n",
            "2              0        0  BENIGN    BENIGN  \n",
            "3              0        0  BENIGN    BENIGN  \n",
            "4              0        0  BENIGN    BENIGN  \n",
            "...          ...      ...     ...       ...  \n",
            "2522357        0        0  BENIGN    BENIGN  \n",
            "2522358        0        0  BENIGN    BENIGN  \n",
            "2522359        0        0  BENIGN    BENIGN  \n",
            "2522360        0        0  BENIGN    BENIGN  \n",
            "2522361        0        0  BENIGN    BENIGN  \n",
            "\n",
            "[2522362 rows x 80 columns]\n"
          ]
        }
      ],
      "source": [
        "# ✅ Load CIC-IDS-2017 dataset\n",
        "dataset = load_dataset(\"sonnh-tech1/cic-ids-2017\", \"binary\")\n",
        "df = dataset[\"train\"].to_pandas()\n",
        "print(df)"
      ]
    },
    {
      "cell_type": "code",
      "execution_count": null,
      "metadata": {
        "id": "QVtJCD680T1P"
      },
      "outputs": [],
      "source": [
        "# ✅ Drop rows with NaNs\n",
        "df = df.dropna()"
      ]
    },
    {
      "cell_type": "code",
      "execution_count": null,
      "metadata": {
        "id": "-q4q2FJc0Xfe"
      },
      "outputs": [],
      "source": [
        "# ✅ Label encode\n",
        "label_mapping = dict(enumerate(df[\"Label\"].astype(\"category\").cat.categories))\n",
        "df[\"Label\"] = df[\"Label\"].astype(\"category\").cat.codes"
      ]
    },
    {
      "cell_type": "code",
      "execution_count": null,
      "metadata": {
        "id": "WfhCuZZS0aJf"
      },
      "outputs": [],
      "source": [
        "# ✅ Select numeric features to embed into \"sentence\"\n",
        "selected_features = [\n",
        "    \"Flow Duration\", \"Total Fwd Packets\", \"Total Backward Packets\",\n",
        "    \"Total Length of Fwd Packets\", \"Total Length of Bwd Packets\",\n",
        "    \"Fwd Packet Length Max\", \"Fwd Packet Length Min\", \"Bwd Packet Length Max\", \"Bwd Packet Length Min\",\n",
        "    \"Flow Bytes/s\", \"Flow Packets/s\", \"Fwd IAT Total\", \"Bwd IAT Total\"\n",
        "]\n",
        "selected_features = [col for col in selected_features if col in df.columns]"
      ]
    },
    {
      "cell_type": "code",
      "execution_count": null,
      "metadata": {
        "id": "hH1EmyW80doW"
      },
      "outputs": [],
      "source": [
        "# ✅ Convert features to sentence\n",
        "df[\"sentence\"] = df[selected_features].astype(str).agg(\" \".join, axis=1)"
      ]
    },
    {
      "cell_type": "code",
      "execution_count": null,
      "metadata": {
        "id": "T1_gKPuP0gMe"
      },
      "outputs": [],
      "source": [
        "# ✅ Final DataFrame\n",
        "final_df = df[[\"sentence\", \"Label\"]].rename(columns={\"Label\": \"label\"})\n"
      ]
    },
    {
      "cell_type": "code",
      "execution_count": null,
      "metadata": {
        "id": "UU8u3adk0id7"
      },
      "outputs": [],
      "source": [
        "# ✅ Train/test split\n",
        "train_df, test_df = train_test_split(final_df, test_size=0.2, stratify=final_df[\"label\"], random_state=42)\n",
        "train_dataset = Dataset.from_pandas(train_df.reset_index(drop=True))\n",
        "test_dataset = Dataset.from_pandas(test_df.reset_index(drop=True))"
      ]
    },
    {
      "cell_type": "code",
      "execution_count": null,
      "metadata": {
        "colab": {
          "base_uri": "https://localhost:8080/",
          "height": 406,
          "referenced_widgets": [
            "affbe0d0221f4c589921e2fe471ff487",
            "a767004bbe85476580cc3542aa5fe79b",
            "c2c4d5f5db604e02a859d6e450be1698",
            "4b37e283e41349f5b883f7861ed33c67",
            "51f7314c819340bcabc745f5490f4a11",
            "63717a654163475392f7e82853c6c049",
            "f50ff4cd41c04eaa804d4571f8998a86",
            "a096b824d84d419080e9a2f1ad1192c1",
            "5356506d3647463eb4c39d83409fca92",
            "79c6515c55fe4727b7429fe0a30f3dc5",
            "5a7a2baa6cc148869c5dff00a92d3439",
            "94dcbf5ea6f64438aecffbc16535534c",
            "c1416f6bd1bf4f84ac08f5d142daaac9",
            "2be1c3ceba7d404fa1db9d61d96eac42",
            "febea2ace3354e5da470de22918e185c",
            "09b3d44603b645219df6e5ee47dbda6e",
            "fdff914837514c84b7528ec42f7935d4",
            "565829c9af8b49bcbaaba468caf6f062",
            "7eaa5c35a2394144865e9d95c5e4e72d",
            "baa5dd9759b54cb3a19165dcded997ab",
            "d29998a2a2b64d3195938a96fe7e0727",
            "e3772dc350414adbbaf2b6f61b70b5d0",
            "467573e202b645b5aa68abbf584f8db5",
            "a239d796b5344213a4c653053a30d662",
            "23e8a10adca646faa5d11a6b65e938a5",
            "8e0fa69161b24adaa687c2b6fed42487",
            "b05273b8426f41f8b4d0d4d5352db643",
            "251b38393f484f5696a71d9c1b58764e",
            "ef4f8e5548584f228846b393d1382897",
            "3c9b494b980a49bf9d41e8e3c5e00180",
            "1aa4e3dbbacf4b4e99b499c9eb729537",
            "e938082f023e41eb885a5824f227471f",
            "07bf9ff34f474a10a51b85d450a18f80",
            "6dfd13e173cc4346883d0c3121bc6677",
            "76872a0a055f48f5921564ff5e269082",
            "6a872d0f843445e196729f69eaafe285",
            "0e5f782afa3648d98bced63f50f3f520",
            "a42679cb6d114c1abf2005ae3fc96240",
            "518ff5e8ecab4675af9c7d621db58cc3",
            "1654270bbf2e48f69d0db6cdc98b85d7",
            "30a12607c56243b7b3b4658d2fb88ed0",
            "3d72cc4c74d840a0ab5da33041680edd",
            "e85bfc3d484a49219c7427bf57f35b08",
            "9ba6ef90a34d457c8f8c8af757f1561c",
            "aa5f74a4599a4e86a8d2f896c52209df",
            "680e56e4a8db4cdbb19d9c105f02fd90",
            "abf93a6d71d84240805125d274ab501b",
            "ef011a364e064e78a7c32e7c9f098a36",
            "02314b014d3348a5b3fddf54c77948ae",
            "8e69442c5fd945049afbdda97bb645b7",
            "fa4adfd6cbad4e46acf3b408a8219782",
            "dcda09c684604ecb8bc2274588513c65",
            "fc28516c4a514222b7fe4d9ac5e7cf51",
            "8d08913e5fa042a4a742e50ebe127d83",
            "82aed737204d4fe6a0e1f60b5cf85a08",
            "5eaac6625f604dd8a7644d666d76b238",
            "04512661029f4cc1ba5d6b22d698b338",
            "adf47f19d37a432abcba5bf28c61d22d",
            "c6284ce7e3e84c5886de33ca218ee0a8",
            "15a803af2d2243cdb002d80a5915d642",
            "333e31302b76469087bb7c2c9a37b74b",
            "6a1855f4f6ea4d15acecb225ddf1bc49",
            "37ab922ba18a4ad0a671c2a0f01743e3",
            "aa708e9eef6e4af7995a23a4857978cf",
            "34e73782c1334ec8accb839eae25592f",
            "7177fbe32158499eac09813f277f3d7d",
            "4fe75fa3643a48009e72801c81693aa5",
            "8f16ef3e52aa4fe9b5a95e4ce2d314b7",
            "549e3cb3313a4d699da2afcf4023d2c3",
            "1121c5166e724f328f3bbdcc56e55f1b",
            "f9ae6d0528f340c4a6d5ddeb7a6b7a3a",
            "fb1b0c4d3ae640f3b33c1f333557c4f0",
            "45df6dd1a43a4d98803ba2b0010f44b2",
            "c1c7c692c7c143ed9216b5f93e187f64",
            "22d6c10ba6d3459ca328ad98a66dc1c9",
            "810bf29a230447fc99ecc16174de4129",
            "9e3ff69d1c5b4f64add0d1c437ec0002",
            "db0fb1bdf039402c89671090fd6fe214",
            "9ed0c2cba9b4429c8cd04e9bb6bc6780",
            "c007bb4cf99f4559b8c3d28deb48331a",
            "426f3bed137741e6a39e687fb30ca5f7",
            "8e839f3e7b0342619b2983139b356333",
            "3254bbe99ae34da5b21cefa22a2e8b0a",
            "02aafbb636e34c0cb17d9a3f4e68066e",
            "f02061d0e25943c09d041eab7d7bd478",
            "5ab18740eecc42d3a59c5fd68c3baca0",
            "6e173f507c8b4693b84bd75e62e69482",
            "56d983a7131a4d83afc98a42c24dbe82",
            "730072ec21004e18ba8076a694c2d24f",
            "720eed9445b34685ab2ef0ed035d01e7",
            "411d6dbc4044401c9c319fcba238015d",
            "b249a6dd004946a4a5945942f9fb650c",
            "c4e6557f79f247dea7dd750e71fa2e5f",
            "f504b6d03bbb496db83da554f21d2869",
            "a5a882e9f8fd4b2abc0345390ee93b50",
            "100578f8e0404132acb13078ce4caeab",
            "faf71e34cf3b4c94ae8c5b5c08809af3",
            "84dcf68a06a746c38aadf590748cd634",
            "0935fdcbf9084747a9340eb36a178da7",
            "450993b5d21d424f91d2815a8666d2ad",
            "0e766dc748b54e3ab76cd9266edbbc66",
            "25a7b84f0eaa4d4fac91ea6bc68cf1b7",
            "3fc44058a5fb438e823750ca4d53cbe8",
            "26c1b3ed59054016b672a9d357038440",
            "9d04f9854a854a909250557f3210b7f3",
            "57a7d4321cfd4cf18349faaf9428a069",
            "ffbabfdd177b4495a262c1f37dc4002b",
            "3d864d2f72804ae5b7d6a07bf01178bf",
            "ae47862bacbb412b93e80e7b4282063d",
            "e7ade86308284dc383876c7a1817eb2f",
            "af5cdaa54bcb45cc91c954a1a59a136b",
            "52d28a802d524896bd34e6def7d2de94",
            "4c811694d25b47a2985efae447b84692",
            "b44732d8555b4370917451b26c827422",
            "ea0ae25bc03f401f8fb271a596d474f4",
            "5b178dc1edc940d095071e34ce783568",
            "5a8cdf064ba5460e9433c6f9300bea20",
            "e8a0fa9c367a41a2ad2205424a0402c2",
            "37c6a1c02f4d4e4f8d3102200482fd96",
            "157ec8ccf5264779a19618f53d362335",
            "e20cfc36d0754e33a173d1d7dab32a45"
          ]
        },
        "id": "_AvZc6xu0ml6",
        "outputId": "b86837dc-0677-4446-fde2-d72a00f0318f"
      },
      "outputs": [
        {
          "data": {
            "application/vnd.jupyter.widget-view+json": {
              "model_id": "affbe0d0221f4c589921e2fe471ff487",
              "version_major": 2,
              "version_minor": 0
            },
            "text/plain": [
              "config.json:   0%|          | 0.00/629 [00:00<?, ?B/s]"
            ]
          },
          "metadata": {},
          "output_type": "display_data"
        },
        {
          "data": {
            "application/vnd.jupyter.widget-view+json": {
              "model_id": "94dcbf5ea6f64438aecffbc16535534c",
              "version_major": 2,
              "version_minor": 0
            },
            "text/plain": [
              "modules.json:   0%|          | 0.00/229 [00:00<?, ?B/s]"
            ]
          },
          "metadata": {},
          "output_type": "display_data"
        },
        {
          "data": {
            "application/vnd.jupyter.widget-view+json": {
              "model_id": "467573e202b645b5aa68abbf584f8db5",
              "version_major": 2,
              "version_minor": 0
            },
            "text/plain": [
              "config_sentence_transformers.json:   0%|          | 0.00/122 [00:00<?, ?B/s]"
            ]
          },
          "metadata": {},
          "output_type": "display_data"
        },
        {
          "data": {
            "application/vnd.jupyter.widget-view+json": {
              "model_id": "6dfd13e173cc4346883d0c3121bc6677",
              "version_major": 2,
              "version_minor": 0
            },
            "text/plain": [
              "README.md: 0.00B [00:00, ?B/s]"
            ]
          },
          "metadata": {},
          "output_type": "display_data"
        },
        {
          "data": {
            "application/vnd.jupyter.widget-view+json": {
              "model_id": "aa5f74a4599a4e86a8d2f896c52209df",
              "version_major": 2,
              "version_minor": 0
            },
            "text/plain": [
              "sentence_bert_config.json:   0%|          | 0.00/53.0 [00:00<?, ?B/s]"
            ]
          },
          "metadata": {},
          "output_type": "display_data"
        },
        {
          "data": {
            "application/vnd.jupyter.widget-view+json": {
              "model_id": "5eaac6625f604dd8a7644d666d76b238",
              "version_major": 2,
              "version_minor": 0
            },
            "text/plain": [
              "model.safetensors:   0%|          | 0.00/69.6M [00:00<?, ?B/s]"
            ]
          },
          "metadata": {},
          "output_type": "display_data"
        },
        {
          "data": {
            "application/vnd.jupyter.widget-view+json": {
              "model_id": "4fe75fa3643a48009e72801c81693aa5",
              "version_major": 2,
              "version_minor": 0
            },
            "text/plain": [
              "tokenizer_config.json:   0%|          | 0.00/314 [00:00<?, ?B/s]"
            ]
          },
          "metadata": {},
          "output_type": "display_data"
        },
        {
          "data": {
            "application/vnd.jupyter.widget-view+json": {
              "model_id": "db0fb1bdf039402c89671090fd6fe214",
              "version_major": 2,
              "version_minor": 0
            },
            "text/plain": [
              "vocab.txt: 0.00B [00:00, ?B/s]"
            ]
          },
          "metadata": {},
          "output_type": "display_data"
        },
        {
          "data": {
            "application/vnd.jupyter.widget-view+json": {
              "model_id": "730072ec21004e18ba8076a694c2d24f",
              "version_major": 2,
              "version_minor": 0
            },
            "text/plain": [
              "tokenizer.json: 0.00B [00:00, ?B/s]"
            ]
          },
          "metadata": {},
          "output_type": "display_data"
        },
        {
          "data": {
            "application/vnd.jupyter.widget-view+json": {
              "model_id": "450993b5d21d424f91d2815a8666d2ad",
              "version_major": 2,
              "version_minor": 0
            },
            "text/plain": [
              "special_tokens_map.json:   0%|          | 0.00/112 [00:00<?, ?B/s]"
            ]
          },
          "metadata": {},
          "output_type": "display_data"
        },
        {
          "data": {
            "application/vnd.jupyter.widget-view+json": {
              "model_id": "af5cdaa54bcb45cc91c954a1a59a136b",
              "version_major": 2,
              "version_minor": 0
            },
            "text/plain": [
              "config.json:   0%|          | 0.00/190 [00:00<?, ?B/s]"
            ]
          },
          "metadata": {},
          "output_type": "display_data"
        },
        {
          "name": "stderr",
          "output_type": "stream",
          "text": [
            "model_head.pkl not found on HuggingFace Hub, initialising classification head with random weights. You should TRAIN this model on a downstream task to use it for predictions and inference.\n"
          ]
        }
      ],
      "source": [
        "# ✅ Load model\n",
        "model = SetFitModel.from_pretrained(\"sentence-transformers/paraphrase-MiniLM-L3-v2\")"
      ]
    },
    {
      "cell_type": "code",
      "execution_count": null,
      "metadata": {
        "colab": {
          "base_uri": "https://localhost:8080/",
          "height": 138,
          "referenced_widgets": [
            "9ba06f0f4d6a476e8b60f419c16d8ef3",
            "15c391fec3c54a3b828a82d9a5d0a3d3",
            "f33f8319fc5e45a28131399d2bf683e3",
            "7960c374d60f41a29edba120f17d1b27",
            "4b1a6c0d8283475180b11bc8048e9c9b",
            "eed2fdfe3fce4e789c1ce57d6ca37cca",
            "876fccc270e74760bb57d4f5934b6512",
            "9869e6b0e38b4e85a822dc3997f6b3eb",
            "c54c15ac0d094ce4939dab8a13f36668",
            "0d8529671e884c40ae8c39d7fccf5351",
            "a0481983843b4fb6bf571209a9622f0b"
          ]
        },
        "id": "ZlnTmBa40rms",
        "outputId": "a5ba29fe-ffcb-4629-9c7d-1a9f538f80ae"
      },
      "outputs": [
        {
          "name": "stderr",
          "output_type": "stream",
          "text": [
            "/tmp/ipython-input-801263738.py:2: DeprecationWarning: `SetFitTrainer` has been deprecated and will be removed in v2.0.0 of SetFit. Please use `Trainer` instead.\n",
            "  trainer = SetFitTrainer(\n",
            "Applying column mapping to the training dataset\n",
            "Applying column mapping to the evaluation dataset\n"
          ]
        },
        {
          "data": {
            "application/vnd.jupyter.widget-view+json": {
              "model_id": "9ba06f0f4d6a476e8b60f419c16d8ef3",
              "version_major": 2,
              "version_minor": 0
            },
            "text/plain": [
              "Map:   0%|          | 0/2017889 [00:00<?, ? examples/s]"
            ]
          },
          "metadata": {},
          "output_type": "display_data"
        }
      ],
      "source": [
        "# ✅ SetFit Trainer\n",
        "trainer = SetFitTrainer(\n",
        "    model=model,\n",
        "    train_dataset=train_dataset,\n",
        "    eval_dataset=test_dataset,\n",
        "    loss_class=\"softmax\",\n",
        "    batch_size=64,\n",
        "    num_iterations=50,\n",
        "    num_epochs=10,\n",
        "    column_mapping={\"sentence\": \"text\", \"label\": \"label\"}\n",
        ")"
      ]
    },
    {
      "cell_type": "code",
      "execution_count": null,
      "metadata": {
        "colab": {
          "base_uri": "https://localhost:8080/"
        },
        "id": "-VEEKKfe2A3X",
        "outputId": "457a587c-81d7-49a4-ad75-bbfc48837040"
      },
      "outputs": [
        {
          "name": "stdout",
          "output_type": "stream",
          "text": [
            "🚀 Starting SLM training...\n",
            "\n"
          ]
        }
      ],
      "source": [
        "# ✅ Train and measure time\n",
        "import time\n",
        "print(\"🚀 Starting SLM training...\\n\")\n",
        "start_time = time.time()\n",
        "trainer.train()\n",
        "end_time = time.time()"
      ]
    },
    {
      "cell_type": "code",
      "execution_count": null,
      "metadata": {
        "id": "eQTShidOHYG-"
      },
      "outputs": [],
      "source": [
        "# ✅ Display training duration\n",
        "total_time = end_time - start_time\n",
        "print(f\"\\n⏱️ Training completed in {total_time:.2f} seconds ({total_time/60:.2f} minutes)\")\n",
        "\n",
        "# ✅ Evaluate\n",
        "metrics = trainer.evaluate()\n",
        "print(f\"\\n📊 Evaluation Accuracy: {metrics['accuracy']:.4f}\")\n",
        "\n",
        "# ✅ Predict and generate report\n",
        "y_true = test_dataset[\"label\"]\n",
        "y_pred = trainer.model.predict(test_dataset[\"sentence\"])\n",
        "\n",
        "print(\"\\n🧾 Classification Report:\")\n",
        "print(classification_report(y_true, y_pred, target_names=[label_mapping[i] for i in sorted(label_mapping.keys())]))\n",
        "\n",
        "# ✅ Confusion Matrix\n",
        "cm = confusion_matrix(y_true, y_pred)\n",
        "labels = [label_mapping[i] for i in sorted(label_mapping.keys())]\n",
        "\n",
        "plt.figure(figsize=(12, 8))\n",
        "sns.heatmap(cm, annot=True, fmt='d', xticklabels=labels, yticklabels=labels, cmap='Blues')\n",
        "plt.xlabel(\"Predicted Label\")\n",
        "plt.ylabel(\"True Label\")\n",
        "plt.title(\"Confusion Matrix\")\n",
        "plt.xticks(rotation=45)\n",
        "plt.yticks(rotation=45)\n",
        "plt.tight_layout()\n",
        "plt.show()"
      ]
    },
    {
      "cell_type": "code",
      "execution_count": null,
      "metadata": {
        "colab": {
          "base_uri": "https://localhost:8080/",
          "height": 40
        },
        "id": "NChudp89vrEk",
        "outputId": "c409570c-343e-4426-beb6-c7030e8bb447"
      },
      "outputs": [
        {
          "data": {
            "text/html": [
              "\n",
              "     <input type=\"file\" id=\"files-4cc3f6eb-7cc3-402a-afa8-db2fcf51b5de\" name=\"files[]\" multiple disabled\n",
              "        style=\"border:none\" />\n",
              "     <output id=\"result-4cc3f6eb-7cc3-402a-afa8-db2fcf51b5de\">\n",
              "      Upload widget is only available when the cell has been executed in the\n",
              "      current browser session. Please rerun this cell to enable.\n",
              "      </output>\n",
              "      <script>// Copyright 2017 Google LLC\n",
              "//\n",
              "// Licensed under the Apache License, Version 2.0 (the \"License\");\n",
              "// you may not use this file except in compliance with the License.\n",
              "// You may obtain a copy of the License at\n",
              "//\n",
              "//      http://www.apache.org/licenses/LICENSE-2.0\n",
              "//\n",
              "// Unless required by applicable law or agreed to in writing, software\n",
              "// distributed under the License is distributed on an \"AS IS\" BASIS,\n",
              "// WITHOUT WARRANTIES OR CONDITIONS OF ANY KIND, either express or implied.\n",
              "// See the License for the specific language governing permissions and\n",
              "// limitations under the License.\n",
              "\n",
              "/**\n",
              " * @fileoverview Helpers for google.colab Python module.\n",
              " */\n",
              "(function(scope) {\n",
              "function span(text, styleAttributes = {}) {\n",
              "  const element = document.createElement('span');\n",
              "  element.textContent = text;\n",
              "  for (const key of Object.keys(styleAttributes)) {\n",
              "    element.style[key] = styleAttributes[key];\n",
              "  }\n",
              "  return element;\n",
              "}\n",
              "\n",
              "// Max number of bytes which will be uploaded at a time.\n",
              "const MAX_PAYLOAD_SIZE = 100 * 1024;\n",
              "\n",
              "function _uploadFiles(inputId, outputId) {\n",
              "  const steps = uploadFilesStep(inputId, outputId);\n",
              "  const outputElement = document.getElementById(outputId);\n",
              "  // Cache steps on the outputElement to make it available for the next call\n",
              "  // to uploadFilesContinue from Python.\n",
              "  outputElement.steps = steps;\n",
              "\n",
              "  return _uploadFilesContinue(outputId);\n",
              "}\n",
              "\n",
              "// This is roughly an async generator (not supported in the browser yet),\n",
              "// where there are multiple asynchronous steps and the Python side is going\n",
              "// to poll for completion of each step.\n",
              "// This uses a Promise to block the python side on completion of each step,\n",
              "// then passes the result of the previous step as the input to the next step.\n",
              "function _uploadFilesContinue(outputId) {\n",
              "  const outputElement = document.getElementById(outputId);\n",
              "  const steps = outputElement.steps;\n",
              "\n",
              "  const next = steps.next(outputElement.lastPromiseValue);\n",
              "  return Promise.resolve(next.value.promise).then((value) => {\n",
              "    // Cache the last promise value to make it available to the next\n",
              "    // step of the generator.\n",
              "    outputElement.lastPromiseValue = value;\n",
              "    return next.value.response;\n",
              "  });\n",
              "}\n",
              "\n",
              "/**\n",
              " * Generator function which is called between each async step of the upload\n",
              " * process.\n",
              " * @param {string} inputId Element ID of the input file picker element.\n",
              " * @param {string} outputId Element ID of the output display.\n",
              " * @return {!Iterable<!Object>} Iterable of next steps.\n",
              " */\n",
              "function* uploadFilesStep(inputId, outputId) {\n",
              "  const inputElement = document.getElementById(inputId);\n",
              "  inputElement.disabled = false;\n",
              "\n",
              "  const outputElement = document.getElementById(outputId);\n",
              "  outputElement.innerHTML = '';\n",
              "\n",
              "  const pickedPromise = new Promise((resolve) => {\n",
              "    inputElement.addEventListener('change', (e) => {\n",
              "      resolve(e.target.files);\n",
              "    });\n",
              "  });\n",
              "\n",
              "  const cancel = document.createElement('button');\n",
              "  inputElement.parentElement.appendChild(cancel);\n",
              "  cancel.textContent = 'Cancel upload';\n",
              "  const cancelPromise = new Promise((resolve) => {\n",
              "    cancel.onclick = () => {\n",
              "      resolve(null);\n",
              "    };\n",
              "  });\n",
              "\n",
              "  // Wait for the user to pick the files.\n",
              "  const files = yield {\n",
              "    promise: Promise.race([pickedPromise, cancelPromise]),\n",
              "    response: {\n",
              "      action: 'starting',\n",
              "    }\n",
              "  };\n",
              "\n",
              "  cancel.remove();\n",
              "\n",
              "  // Disable the input element since further picks are not allowed.\n",
              "  inputElement.disabled = true;\n",
              "\n",
              "  if (!files) {\n",
              "    return {\n",
              "      response: {\n",
              "        action: 'complete',\n",
              "      }\n",
              "    };\n",
              "  }\n",
              "\n",
              "  for (const file of files) {\n",
              "    const li = document.createElement('li');\n",
              "    li.append(span(file.name, {fontWeight: 'bold'}));\n",
              "    li.append(span(\n",
              "        `(${file.type || 'n/a'}) - ${file.size} bytes, ` +\n",
              "        `last modified: ${\n",
              "            file.lastModifiedDate ? file.lastModifiedDate.toLocaleDateString() :\n",
              "                                    'n/a'} - `));\n",
              "    const percent = span('0% done');\n",
              "    li.appendChild(percent);\n",
              "\n",
              "    outputElement.appendChild(li);\n",
              "\n",
              "    const fileDataPromise = new Promise((resolve) => {\n",
              "      const reader = new FileReader();\n",
              "      reader.onload = (e) => {\n",
              "        resolve(e.target.result);\n",
              "      };\n",
              "      reader.readAsArrayBuffer(file);\n",
              "    });\n",
              "    // Wait for the data to be ready.\n",
              "    let fileData = yield {\n",
              "      promise: fileDataPromise,\n",
              "      response: {\n",
              "        action: 'continue',\n",
              "      }\n",
              "    };\n",
              "\n",
              "    // Use a chunked sending to avoid message size limits. See b/62115660.\n",
              "    let position = 0;\n",
              "    do {\n",
              "      const length = Math.min(fileData.byteLength - position, MAX_PAYLOAD_SIZE);\n",
              "      const chunk = new Uint8Array(fileData, position, length);\n",
              "      position += length;\n",
              "\n",
              "      const base64 = btoa(String.fromCharCode.apply(null, chunk));\n",
              "      yield {\n",
              "        response: {\n",
              "          action: 'append',\n",
              "          file: file.name,\n",
              "          data: base64,\n",
              "        },\n",
              "      };\n",
              "\n",
              "      let percentDone = fileData.byteLength === 0 ?\n",
              "          100 :\n",
              "          Math.round((position / fileData.byteLength) * 100);\n",
              "      percent.textContent = `${percentDone}% done`;\n",
              "\n",
              "    } while (position < fileData.byteLength);\n",
              "  }\n",
              "\n",
              "  // All done.\n",
              "  yield {\n",
              "    response: {\n",
              "      action: 'complete',\n",
              "    }\n",
              "  };\n",
              "}\n",
              "\n",
              "scope.google = scope.google || {};\n",
              "scope.google.colab = scope.google.colab || {};\n",
              "scope.google.colab._files = {\n",
              "  _uploadFiles,\n",
              "  _uploadFilesContinue,\n",
              "};\n",
              "})(self);\n",
              "</script> "
            ],
            "text/plain": [
              "<IPython.core.display.HTML object>"
            ]
          },
          "metadata": {},
          "output_type": "display_data"
        }
      ],
      "source": [
        "import nbformat\n",
        "\n",
        "# Step 1: Upload your broken notebook again\n",
        "from google.colab import files\n",
        "uploaded = files.upload()\n",
        "\n",
        "# Replace this with the actual uploaded filename\n",
        "filename = list(uploaded.keys())[0]\n",
        "\n",
        "# Step 2: Load and clean\n",
        "with open(filename, \"r\", encoding=\"utf-8\") as f:\n",
        "    nb = nbformat.read(f, as_version=4)\n",
        "\n",
        "# ✅ Step 3: Clean ONLY metadata.widgets (KEEP outputs and execution_count)\n",
        "for cell in nb.cells:\n",
        "    if 'metadata' in cell:\n",
        "        cell['metadata'] = {k: v for k, v in cell['metadata'].items() if k != 'widgets'}\n",
        "\n",
        "# ✅ Step 4: Clear notebook-level metadata.widgets (if present)\n",
        "if 'widgets' in nb.get('metadata', {}):\n",
        "    del nb['metadata']['widgets']\n",
        "\n",
        "# Step 5: Save cleaned notebook\n",
        "cleaned_filename = filename.replace('.ipynb', '_fixed.ipynb')\n",
        "with open(cleaned_filename, \"w\", encoding=\"utf-8\") as f:\n",
        "    nbformat.write(nb, f)\n",
        "\n",
        "print(f\"✅ Cleaned notebook saved (outputs preserved) as {cleaned_filename}\")\n",
        "files.download(cleaned_filename)"
      ]
    }
  ],
  "metadata": {
    "colab": {
      "provenance": [],
      "include_colab_link": true
    },
    "kernelspec": {
      "display_name": "Python 3",
      "name": "python3"
    },
    "language_info": {
      "name": "python"
    }
  },
  "nbformat": 4,
  "nbformat_minor": 0
}